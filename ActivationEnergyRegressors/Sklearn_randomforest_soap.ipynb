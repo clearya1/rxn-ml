{
 "cells": [
  {
   "cell_type": "code",
   "execution_count": 1,
   "id": "3bec52e7",
   "metadata": {},
   "outputs": [],
   "source": [
    "# Data libraries\n",
    "import pandas as pd\n",
    "import numpy as np\n",
    "\n",
    "# Plotting libraries\n",
    "import matplotlib.pyplot as plt\n",
    "import seaborn as sns\n",
    "\n",
    "# Display plots inline\n",
    "%matplotlib inline\n",
    "\n",
    "# Plotting defaults\n",
    "plt.rcParams['figure.figsize'] = (8,6)\n",
    "plt.rcParams['figure.dpi'] = 100\n",
    "\n",
    "# sklearn modules\n",
    "import sklearn\n",
    "from sklearn.linear_model import LinearRegression, Ridge, Lasso\n",
    "from sklearn.preprocessing import PolynomialFeatures, StandardScaler\n",
    "from sklearn.metrics import mean_squared_error, accuracy_score\n",
    "from sklearn.pipeline import make_pipeline\n",
    "from sklearn.model_selection import cross_val_score, GridSearchCV, KFold, train_test_split\n",
    "from sklearn.tree import DecisionTreeRegressor, plot_tree\n",
    "from sklearn.ensemble import RandomForestClassifier"
   ]
  },
  {
   "cell_type": "code",
   "execution_count": null,
   "id": "373f631a",
   "metadata": {},
   "outputs": [],
   "source": [
    "# def model_fit(m, X, y, plot = False):\n",
    "#     \"\"\"Returns the relative error (value between 0 and 1) of a fitted model based on provided X and y values.\n",
    "    \n",
    "#     Args:\n",
    "#         m: sklearn model object\n",
    "#         X: model matrix to use for prediction\n",
    "#         y: outcome vector to use to calculating relative error and residuals\n",
    "#         plot: boolean value, should fit plots be shown \n",
    "#     \"\"\"\n",
    "    \n",
    "#     y_hat = m.predict(X)\n",
    "        \n",
    "#     rel_metric = np.mean(np.abs(np.exp(y) - np.exp(y_hat))/np.exp(y))\n",
    "    \n",
    "#     res = pd.DataFrame(\n",
    "#         data = {'y': y, 'y_hat': y_hat, 'resid': y - y_hat}\n",
    "#     )\n",
    "    \n",
    "#     if plot:\n",
    "#         plt.figure(figsize=(12, 6))\n",
    "        \n",
    "#         plt.subplot(121)\n",
    "#         sns.lineplot(x='x', y='y', color=\"grey\", data =  pd.DataFrame(data={'x': [min(y),max(y)], 'y': [min(y),max(y)]}))\n",
    "#         sns.scatterplot(x='y', y='y_hat', data=res).set_title(\"Fit plot\")\n",
    "#         plt.xlabel('Log(True Value)')\n",
    "#         plt.ylabel('Log(Predicted Value)')\n",
    "        \n",
    "#         plt.subplot(122)\n",
    "#         sns.scatterplot(x='y', y='resid', data=res).set_title(\"Residual plot\")\n",
    "#         plt.xlabel('Log(True Value)')\n",
    "#         plt.ylabel('Log(Residual)')\n",
    "# #         plt.subplots_adjust(left=0.0)\n",
    "        \n",
    "#         plt.suptitle(\"Model relative error = \" + str(round(rel_metric, 4)), fontsize=16)\n",
    "#         plt.savefig(\"forest_fit.png\")\n",
    "#         plt.show()\n",
    "        \n",
    "    \n",
    "#     return rel_metric"
   ]
  },
  {
   "cell_type": "code",
   "execution_count": null,
   "id": "f0e6d3d3",
   "metadata": {},
   "outputs": [],
   "source": [
    "# data_path = '/home/s1997751/Documents/PhD/Year2/ibm_project/data_files/qmrxn/'\n",
    "# data_set = pd.read_csv(data_path+\"energies_coordinates.csv\",index_col=0)"
   ]
  },
  {
   "cell_type": "code",
   "execution_count": null,
   "id": "4fa9d1d6",
   "metadata": {},
   "outputs": [],
   "source": [
    "# data_set.iloc[:,[67,71,75,79,83,87]] = data_set.iloc[:,[67,71,75,79,83,87]].astype('string')"
   ]
  },
  {
   "cell_type": "code",
   "execution_count": null,
   "id": "c7b1fe88",
   "metadata": {},
   "outputs": [],
   "source": [
    "# element_cols = ['element_'+str(i) for i in range(21)]\n",
    "\n",
    "# for col in element_cols:\n",
    "#     tempdf = pd.get_dummies(data_set[col], prefix=col)\n",
    "    \n",
    "#     data_set = pd.merge(left=data_set,\n",
    "#                         right=tempdf,\n",
    "#                        left_index=True,\n",
    "#                        right_index=True)\n",
    "#     data_set.drop(columns=col, inplace=True)\n",
    "\n",
    "# # data_set.head()"
   ]
  },
  {
   "cell_type": "code",
   "execution_count": null,
   "id": "daa4e469",
   "metadata": {},
   "outputs": [],
   "source": [
    "# data_set.drop(columns=['label', 'reaction','number','method'],inplace=True)\n",
    "# data_set['trans_state'] = np.where(data_set['geometry']== 'ts', True, False)\n",
    "# data_set.drop(columns=['geometry'],inplace=True)"
   ]
  },
  {
   "cell_type": "code",
   "execution_count": null,
   "id": "446373cb",
   "metadata": {},
   "outputs": [],
   "source": [
    "# data_set.tail()"
   ]
  },
  {
   "cell_type": "code",
   "execution_count": null,
   "id": "d1843281",
   "metadata": {},
   "outputs": [],
   "source": [
    "# data_set.to_csv('/home/s1997751/Documents/PhD/Year2/ibm_project/data_files/qmrxn/ran_for_data.csv')"
   ]
  },
  {
   "cell_type": "code",
   "execution_count": null,
   "id": "5e346541",
   "metadata": {},
   "outputs": [],
   "source": []
  },
  {
   "cell_type": "code",
   "execution_count": null,
   "id": "a1f69296",
   "metadata": {},
   "outputs": [],
   "source": []
  },
  {
   "cell_type": "code",
   "execution_count": null,
   "id": "659f1315",
   "metadata": {},
   "outputs": [],
   "source": []
  },
  {
   "cell_type": "code",
   "execution_count": 2,
   "id": "a838ee38",
   "metadata": {},
   "outputs": [
    {
     "name": "stdout",
     "output_type": "stream",
     "text": [
      "[[array([12.51491048,  6.30481369,  0.        ,  0.        ,  1.73301234,\n",
      "          0.        ,  0.        ,  3.17626529,  0.        ,  0.        ,\n",
      "          0.87306417,  0.        ,  0.        ,  0.        ,  0.        ,\n",
      "          0.        ,  0.        ,  0.        ,  0.        ,  0.        ,\n",
      "          0.        ,  0.        ,  0.23998028,  0.        ,  0.        ,\n",
      "          0.        ,  0.        ,  0.        ])\n",
      "  1]\n",
      " [array([12.36535194,  6.15567276,  0.        ,  0.        ,  0.        ,\n",
      "          1.29891412,  0.        ,  3.06439375,  0.        ,  0.        ,\n",
      "          0.        ,  0.64662052,  0.        ,  0.        ,  0.        ,\n",
      "          0.        ,  0.        ,  0.        ,  0.        ,  0.        ,\n",
      "          0.        ,  0.        ,  0.        ,  0.        ,  0.        ,\n",
      "          0.13644399,  0.        ,  0.        ])\n",
      "  1]\n",
      " [array([9.46134418, 5.40201442, 0.        , 0.        , 1.39241335,\n",
      "         1.14005774, 0.        , 3.08431437, 0.        , 0.        ,\n",
      "         0.79500723, 0.65092319, 0.        , 0.        , 0.        ,\n",
      "         0.        , 0.        , 0.        , 0.        , 0.        ,\n",
      "         0.        , 0.        , 0.20491961, 0.16778077, 0.        ,\n",
      "         0.13737283, 0.        , 0.        ])                        1]\n",
      " ...\n",
      " [array([13.9323627 ,  5.14121963,  2.75964093,  0.        ,  0.79161147,\n",
      "          0.        ,  0.        ,  1.89717565,  1.01834272,  0.        ,\n",
      "          0.29211473,  0.        ,  0.        ,  0.54661354,  0.        ,\n",
      "          0.15679777,  0.        ,  0.        ,  0.        ,  0.        ,\n",
      "          0.        ,  0.        ,  0.04497792,  0.        ,  0.        ,\n",
      "          0.        ,  0.        ,  0.        ])\n",
      "  0]\n",
      " [array([13.9323627 ,  5.14121963,  2.75964093,  0.        ,  0.79161147,\n",
      "          0.        ,  0.        ,  1.89717565,  1.01834272,  0.        ,\n",
      "          0.29211473,  0.        ,  0.        ,  0.54661354,  0.        ,\n",
      "          0.15679777,  0.        ,  0.        ,  0.        ,  0.        ,\n",
      "          0.        ,  0.        ,  0.04497792,  0.        ,  0.        ,\n",
      "          0.        ,  0.        ,  0.        ])\n",
      "  0]\n",
      " [array([13.9323627 ,  5.14121963,  2.75964093,  0.        ,  0.79161147,\n",
      "          0.        ,  0.        ,  1.89717565,  1.01834272,  0.        ,\n",
      "          0.29211473,  0.        ,  0.        ,  0.54661354,  0.        ,\n",
      "          0.15679777,  0.        ,  0.        ,  0.        ,  0.        ,\n",
      "          0.        ,  0.        ,  0.04497792,  0.        ,  0.        ,\n",
      "          0.        ,  0.        ,  0.        ])\n",
      "  0]]\n"
     ]
    }
   ],
   "source": [
    "tempdata = np.load(\"/home/aidan/Documents/PhD/Year2/ibm_project/data_files/qmrxn/soap_transition_n1l0.npy\", allow_pickle=True)\n",
    "print(tempdata)"
   ]
  },
  {
   "cell_type": "code",
   "execution_count": 3,
   "id": "c86e1136",
   "metadata": {},
   "outputs": [
    {
     "name": "stdout",
     "output_type": "stream",
     "text": [
      "(407848, 2)\n"
     ]
    }
   ],
   "source": [
    "print(tempdata.shape)"
   ]
  },
  {
   "cell_type": "code",
   "execution_count": 4,
   "id": "50640f1d",
   "metadata": {},
   "outputs": [],
   "source": [
    "data_set = np.array(tempdata[:,0].tolist())\n",
    "\n",
    "data_y = np.array(tempdata[:,1].tolist())"
   ]
  },
  {
   "cell_type": "code",
   "execution_count": 5,
   "id": "2e189967",
   "metadata": {},
   "outputs": [
    {
     "data": {
      "text/plain": [
       "array([[12.51491048,  6.30481369,  0.        , ...,  0.        ,\n",
       "         0.        ,  0.        ],\n",
       "       [12.36535194,  6.15567276,  0.        , ...,  0.13644399,\n",
       "         0.        ,  0.        ],\n",
       "       [ 9.46134418,  5.40201442,  0.        , ...,  0.13737283,\n",
       "         0.        ,  0.        ],\n",
       "       ...,\n",
       "       [13.9323627 ,  5.14121963,  2.75964093, ...,  0.        ,\n",
       "         0.        ,  0.        ],\n",
       "       [13.9323627 ,  5.14121963,  2.75964093, ...,  0.        ,\n",
       "         0.        ,  0.        ],\n",
       "       [13.9323627 ,  5.14121963,  2.75964093, ...,  0.        ,\n",
       "         0.        ,  0.        ]])"
      ]
     },
     "execution_count": 5,
     "metadata": {},
     "output_type": "execute_result"
    }
   ],
   "source": [
    "data_set\n",
    "# data_set = data_set.fillna(0)"
   ]
  },
  {
   "cell_type": "code",
   "execution_count": 6,
   "id": "6be53230",
   "metadata": {},
   "outputs": [
    {
     "data": {
      "text/plain": [
       "array([1, 1, 1, ..., 0, 0, 0])"
      ]
     },
     "execution_count": 6,
     "metadata": {},
     "output_type": "execute_result"
    }
   ],
   "source": [
    "data_y"
   ]
  },
  {
   "cell_type": "code",
   "execution_count": 7,
   "id": "44a6bedf",
   "metadata": {},
   "outputs": [],
   "source": [
    "X = data_set\n",
    "y = data_y\n",
    "X_train, X_test, y_train, y_test = train_test_split(X, y, \n",
    "                                                    test_size = 0.3, \n",
    "                                                    random_state=100)"
   ]
  },
  {
   "cell_type": "code",
   "execution_count": 8,
   "id": "b66fe500",
   "metadata": {},
   "outputs": [
    {
     "data": {
      "text/html": [
       "<style>#sk-container-id-1 {color: black;background-color: white;}#sk-container-id-1 pre{padding: 0;}#sk-container-id-1 div.sk-toggleable {background-color: white;}#sk-container-id-1 label.sk-toggleable__label {cursor: pointer;display: block;width: 100%;margin-bottom: 0;padding: 0.3em;box-sizing: border-box;text-align: center;}#sk-container-id-1 label.sk-toggleable__label-arrow:before {content: \"▸\";float: left;margin-right: 0.25em;color: #696969;}#sk-container-id-1 label.sk-toggleable__label-arrow:hover:before {color: black;}#sk-container-id-1 div.sk-estimator:hover label.sk-toggleable__label-arrow:before {color: black;}#sk-container-id-1 div.sk-toggleable__content {max-height: 0;max-width: 0;overflow: hidden;text-align: left;background-color: #f0f8ff;}#sk-container-id-1 div.sk-toggleable__content pre {margin: 0.2em;color: black;border-radius: 0.25em;background-color: #f0f8ff;}#sk-container-id-1 input.sk-toggleable__control:checked~div.sk-toggleable__content {max-height: 200px;max-width: 100%;overflow: auto;}#sk-container-id-1 input.sk-toggleable__control:checked~label.sk-toggleable__label-arrow:before {content: \"▾\";}#sk-container-id-1 div.sk-estimator input.sk-toggleable__control:checked~label.sk-toggleable__label {background-color: #d4ebff;}#sk-container-id-1 div.sk-label input.sk-toggleable__control:checked~label.sk-toggleable__label {background-color: #d4ebff;}#sk-container-id-1 input.sk-hidden--visually {border: 0;clip: rect(1px 1px 1px 1px);clip: rect(1px, 1px, 1px, 1px);height: 1px;margin: -1px;overflow: hidden;padding: 0;position: absolute;width: 1px;}#sk-container-id-1 div.sk-estimator {font-family: monospace;background-color: #f0f8ff;border: 1px dotted black;border-radius: 0.25em;box-sizing: border-box;margin-bottom: 0.5em;}#sk-container-id-1 div.sk-estimator:hover {background-color: #d4ebff;}#sk-container-id-1 div.sk-parallel-item::after {content: \"\";width: 100%;border-bottom: 1px solid gray;flex-grow: 1;}#sk-container-id-1 div.sk-label:hover label.sk-toggleable__label {background-color: #d4ebff;}#sk-container-id-1 div.sk-serial::before {content: \"\";position: absolute;border-left: 1px solid gray;box-sizing: border-box;top: 0;bottom: 0;left: 50%;z-index: 0;}#sk-container-id-1 div.sk-serial {display: flex;flex-direction: column;align-items: center;background-color: white;padding-right: 0.2em;padding-left: 0.2em;position: relative;}#sk-container-id-1 div.sk-item {position: relative;z-index: 1;}#sk-container-id-1 div.sk-parallel {display: flex;align-items: stretch;justify-content: center;background-color: white;position: relative;}#sk-container-id-1 div.sk-item::before, #sk-container-id-1 div.sk-parallel-item::before {content: \"\";position: absolute;border-left: 1px solid gray;box-sizing: border-box;top: 0;bottom: 0;left: 50%;z-index: -1;}#sk-container-id-1 div.sk-parallel-item {display: flex;flex-direction: column;z-index: 1;position: relative;background-color: white;}#sk-container-id-1 div.sk-parallel-item:first-child::after {align-self: flex-end;width: 50%;}#sk-container-id-1 div.sk-parallel-item:last-child::after {align-self: flex-start;width: 50%;}#sk-container-id-1 div.sk-parallel-item:only-child::after {width: 0;}#sk-container-id-1 div.sk-dashed-wrapped {border: 1px dashed gray;margin: 0 0.4em 0.5em 0.4em;box-sizing: border-box;padding-bottom: 0.4em;background-color: white;}#sk-container-id-1 div.sk-label label {font-family: monospace;font-weight: bold;display: inline-block;line-height: 1.2em;}#sk-container-id-1 div.sk-label-container {text-align: center;}#sk-container-id-1 div.sk-container {/* jupyter's `normalize.less` sets `[hidden] { display: none; }` but bootstrap.min.css set `[hidden] { display: none !important; }` so we also need the `!important` here to be able to override the default hidden behavior on the sphinx rendered scikit-learn.org. See: https://github.com/scikit-learn/scikit-learn/issues/21755 */display: inline-block !important;position: relative;}#sk-container-id-1 div.sk-text-repr-fallback {display: none;}</style><div id=\"sk-container-id-1\" class=\"sk-top-container\"><div class=\"sk-text-repr-fallback\"><pre>RandomForestClassifier(random_state=100)</pre><b>In a Jupyter environment, please rerun this cell to show the HTML representation or trust the notebook. <br />On GitHub, the HTML representation is unable to render, please try loading this page with nbviewer.org.</b></div><div class=\"sk-container\" hidden><div class=\"sk-item\"><div class=\"sk-estimator sk-toggleable\"><input class=\"sk-toggleable__control sk-hidden--visually\" id=\"sk-estimator-id-1\" type=\"checkbox\" checked><label for=\"sk-estimator-id-1\" class=\"sk-toggleable__label sk-toggleable__label-arrow\">RandomForestClassifier</label><div class=\"sk-toggleable__content\"><pre>RandomForestClassifier(random_state=100)</pre></div></div></div></div></div>"
      ],
      "text/plain": [
       "RandomForestClassifier(random_state=100)"
      ]
     },
     "execution_count": 8,
     "metadata": {},
     "output_type": "execute_result"
    }
   ],
   "source": [
    "rf_clf = RandomForestClassifier(n_estimators=100, random_state=100)   \n",
    "rf_clf.fit(X_train,y_train)"
   ]
  },
  {
   "cell_type": "code",
   "execution_count": 9,
   "id": "34e056dd",
   "metadata": {},
   "outputs": [],
   "source": [
    "y_predict = rf_clf.predict(X_test)"
   ]
  },
  {
   "cell_type": "code",
   "execution_count": null,
   "id": "0413c0f5",
   "metadata": {},
   "outputs": [],
   "source": [
    "print(y_predict)\n",
    "print(y_test)"
   ]
  },
  {
   "cell_type": "code",
   "execution_count": 10,
   "id": "58199040",
   "metadata": {},
   "outputs": [
    {
     "data": {
      "text/plain": [
       "0.999975481181807"
      ]
     },
     "execution_count": 10,
     "metadata": {},
     "output_type": "execute_result"
    }
   ],
   "source": [
    "accuracy_score(y_test,y_predict)\n"
   ]
  },
  {
   "cell_type": "code",
   "execution_count": null,
   "id": "ba71b4fb",
   "metadata": {},
   "outputs": [],
   "source": [
    "fig = plt.figure(figsize=(45, 30))\n",
    "plot_tree(rf_clf.estimators_[0], \n",
    "          feature_names=X, \n",
    "          filled=True, rounded=True)\n",
    "\n",
    "# plt.show()\n",
    "# plt.savefig('tree')"
   ]
  },
  {
   "cell_type": "code",
   "execution_count": 11,
   "id": "d2e96f35",
   "metadata": {},
   "outputs": [
    {
     "name": "stdout",
     "output_type": "stream",
     "text": [
      " 1) 7                              0.104398\n",
      " 2) 8                              0.080610\n",
      " 3) 13                             0.074736\n",
      " 4) 1                              0.068536\n",
      " 5) 2                              0.060184\n",
      " 6) 0                              0.057226\n",
      " 7) 10                             0.049829\n",
      " 8) 11                             0.041470\n",
      " 9) 5                              0.035444\n",
      "10) 4                              0.034185\n",
      "11) 15                             0.032795\n",
      "12) 12                             0.028901\n",
      "13) 6                              0.028318\n",
      "14) 3                              0.028219\n",
      "15) 16                             0.026526\n",
      "16) 14                             0.026231\n",
      "17) 9                              0.025636\n",
      "18) 22                             0.024030\n",
      "19) 25                             0.023121\n",
      "20) 18                             0.022463\n",
      "21) 17                             0.020767\n",
      "22) 20                             0.017417\n",
      "23) 19                             0.017332\n",
      "24) 23                             0.016608\n",
      "25) 27                             0.015418\n",
      "26) 26                             0.015176\n",
      "27) 24                             0.012473\n",
      "28) 21                             0.011952\n"
     ]
    }
   ],
   "source": [
    "importances = rf_clf.feature_importances_\n",
    "#\n",
    "# Sort the feature importance in descending order\n",
    "#\n",
    "sorted_indices = np.argsort(importances)[::-1]\n",
    " \n",
    "feat_labels = sorted_indices\n",
    " \n",
    "for f in range(X_train.shape[1]):\n",
    "    print(\"%2d) %-*s %f\" % (f + 1, 30,\n",
    "                            feat_labels[f],\n",
    "                            importances[sorted_indices[f]]))"
   ]
  },
  {
   "cell_type": "code",
   "execution_count": 14,
   "id": "6836c899",
   "metadata": {},
   "outputs": [
    {
     "data": {
      "image/png": "[encoded data removed]",
      "text/plain": [
       "<Figure size 800x600 with 1 Axes>"
      ]
     },
     "metadata": {},
     "output_type": "display_data"
    }
   ],
   "source": [
    "plt.title('Feature Importance')\n",
    "num_feat = 28\n",
    "plt.bar(range(num_feat), importances[sorted_indices][:num_feat], align='center')\n",
    "plt.xticks(range(num_feat), feat_labels[:num_feat], rotation=90)\n",
    "plt.tight_layout()\n",
    "plt.savefig('SOAP_feature_impor.png')"
   ]
  },
  {
   "cell_type": "code",
   "execution_count": null,
   "id": "bda4f213",
   "metadata": {},
   "outputs": [],
   "source": []
  },
  {
   "cell_type": "code",
   "execution_count": null,
   "id": "83051ec6",
   "metadata": {},
   "outputs": [],
   "source": [
    "# estimator = RandomForestRegressor()\n",
    "# param_grid = { \n",
    "#     \"n_estimators\"      : np.arange(50,401,25),\n",
    "#     \"max_features\"      : [\"sqrt\"],\n",
    "# #     \"min_samples_split\" : [2,4,8],\n",
    "# #     \"bootstrap\"         : [True, False],\n",
    "# #     \"max_depth\"         : np.arange(15, 25),\n",
    "# #     \"max_leaf_nodes\"    : np.arange(10000, 50000, 5000)\n",
    "#         }\n",
    "# forest_gs = GridSearchCV(estimator, \n",
    "#                          param_grid,\n",
    "# #                          n_jobs=2, \n",
    "#                          cv=KFold(5, shuffle=True, random_state=1234), \n",
    "#                          scoring=\"neg_root_mean_squared_error\",\n",
    "#                          verbose=3\n",
    "# ).fit(\n",
    "#     Xt, yt\n",
    "# )\n",
    "# forest_gs.best_params_"
   ]
  },
  {
   "cell_type": "code",
   "execution_count": null,
   "id": "fb2dfd6e",
   "metadata": {},
   "outputs": [],
   "source": [
    "# y_out = forest_gs.best_estimator_.predict(Xv)\n",
    "# forest_gs.best_estimator_.score(Xv,yv)"
   ]
  },
  {
   "cell_type": "code",
   "execution_count": null,
   "id": "b2b2346d",
   "metadata": {},
   "outputs": [],
   "source": [
    "# print(\"forest rmse:\", model_fit(forest_gs.best_estimator_, Xv, yv, plot=True))"
   ]
  }
 ],
 "metadata": {
  "kernelspec": {
   "display_name": "Python 3 (ipykernel)",
   "language": "python",
   "name": "python3"
  },
  "language_info": {
   "codemirror_mode": {
    "name": "ipython",
    "version": 3
   },
   "file_extension": ".py",
   "mimetype": "text/x-python",
   "name": "python",
   "nbconvert_exporter": "python",
   "pygments_lexer": "ipython3",
   "version": "3.9.12"
  }
 },
 "nbformat": 4,
 "nbformat_minor": 5
}
